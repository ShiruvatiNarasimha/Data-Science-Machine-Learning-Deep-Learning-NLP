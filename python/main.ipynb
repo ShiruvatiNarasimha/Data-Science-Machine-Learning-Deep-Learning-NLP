{
 "cells": [
  {
   "cell_type": "code",
   "execution_count": 6,
   "id": "a9a890e3",
   "metadata": {},
   "outputs": [
    {
     "name": "stdout",
     "output_type": "stream",
     "text": [
      "2\n"
     ]
    }
   ],
   "source": [
    "print(1+1)\n"
   ]
  },
  {
   "cell_type": "code",
   "execution_count": 7,
   "id": "a4eb99a4",
   "metadata": {},
   "outputs": [
    {
     "name": "stdout",
     "output_type": "stream",
     "text": [
      "you are an adult\n"
     ]
    }
   ],
   "source": [
    "age= 28\n",
    "if age > 18:\n",
    "    print(\"you are an adult\")"
   ]
  },
  {
   "cell_type": "code",
   "execution_count": 9,
   "id": "e86ac697",
   "metadata": {},
   "outputs": [
    {
     "data": {
      "text/plain": [
       "str"
      ]
     },
     "execution_count": 9,
     "metadata": {},
     "output_type": "execute_result"
    }
   ],
   "source": [
    "age = 34\n",
    "type(age)\n",
    "name = \"shiruvati\"\n",
    "type(name)"
   ]
  },
  {
   "cell_type": "code",
   "execution_count": 10,
   "id": "78e49351",
   "metadata": {},
   "outputs": [
    {
     "data": {
      "text/plain": [
       "float"
      ]
     },
     "execution_count": 10,
     "metadata": {},
     "output_type": "execute_result"
    }
   ],
   "source": [
    "heigth=5.1\n",
    "type(heigth)"
   ]
  },
  {
   "cell_type": "code",
   "execution_count": 11,
   "id": "15384be0",
   "metadata": {},
   "outputs": [
    {
     "data": {
      "text/plain": [
       "5.0"
      ]
     },
     "execution_count": 11,
     "metadata": {},
     "output_type": "execute_result"
    }
   ],
   "source": [
    "float(int(heigth))"
   ]
  },
  {
   "cell_type": "code",
   "execution_count": 15,
   "id": "18a25023",
   "metadata": {},
   "outputs": [
    {
     "name": "stdout",
     "output_type": "stream",
     "text": [
      "10 <class 'int'>\n",
      "hello <class 'str'>\n",
      "10.5 <class 'float'>\n"
     ]
    }
   ],
   "source": [
    "## Dynamic Typing\n",
    "## Python allows the type of the variable to change at runtime\n",
    "var=10\n",
    "print(var,type(var))\n",
    "\n",
    "var=\"hello\"\n",
    "print(var,type(var))\n",
    "\n",
    "var=10.5\n",
    "print(var,type(var))"
   ]
  },
  {
   "cell_type": "code",
   "execution_count": 18,
   "id": "ed964711",
   "metadata": {},
   "outputs": [
    {
     "name": "stdout",
     "output_type": "stream",
     "text": [
      "56 <class 'str'>\n",
      "23 <class 'int'>\n"
     ]
    }
   ],
   "source": [
    " ## input\n",
    "\n",
    "age=input(\"What is your age?\")\n",
    "print(age,type(age))\n",
    "age=int(input(\"What is your age?\"))\n",
    "print(age,type(age))"
   ]
  },
  {
   "cell_type": "code",
   "execution_count": 1,
   "id": "d790c0a3",
   "metadata": {},
   "outputs": [
    {
     "name": "stdout",
     "output_type": "stream",
     "text": [
      "Sum: 163\n",
      "Difference: -7\n",
      "Product: 6630\n",
      "Quotient: 0.9176470588235294\n"
     ]
    }
   ],
   "source": [
    "## simple calculator\n",
    "num1=int(input(\"Enter first number:\"))\n",
    "num2=int(input(\"Enter second number:\"))\n",
    "\n",
    "sum=num1+num2\n",
    "difference=num1-num2\n",
    "product=num1*num2\n",
    "quotient=num1/num2\n",
    "\n",
    "\n",
    "print(\"Sum:\",sum)\n",
    "print(\"Difference:\",difference)\n",
    "print(\"Product:\",product)\n",
    "print(\"Quotient:\",quotient) "
   ]
  },
  {
   "cell_type": "code",
   "execution_count": 4,
   "id": "461355d3",
   "metadata": {},
   "outputs": [
    {
     "name": "stdout",
     "output_type": "stream",
     "text": [
      "25\n",
      "-5\n",
      "150\n",
      "0.6666666666666666\n",
      "10\n",
      "1000000000000000\n"
     ]
    }
   ],
   "source": [
    "## Arithmetic Operators\n",
    "\n",
    "\n",
    "a = 10\n",
    "b = 15\n",
    "\n",
    "add_result = a + b\n",
    "subtract_result = a -b\n",
    "multiply_result = a * b\n",
    "divide_result = a / b\n",
    "modulus_result = a % b\n",
    "exponent_result = a ** b\n",
    "\n",
    "\n",
    "print(add_result)\n",
    "print(subtract_result)\n",
    "print(multiply_result)\n",
    "print(divide_result)\n",
    "print(modulus_result)\n",
    "print(exponent_result)\n"
   ]
  },
  {
   "cell_type": "code",
   "execution_count": 7,
   "id": "ada8c786",
   "metadata": {},
   "outputs": [
    {
     "name": "stdout",
     "output_type": "stream",
     "text": [
      "You are allowed to vote in the election\n"
     ]
    }
   ],
   "source": [
    "## if statement\n",
    "\n",
    "\n",
    "age = 20\n",
    "\n",
    "if age>=18:\n",
    "    print(\"You are allowed to vote in the election\")"
   ]
  },
  {
   "cell_type": "code",
   "execution_count": 8,
   "id": "419bcfc7",
   "metadata": {},
   "outputs": [
    {
     "name": "stdout",
     "output_type": "stream",
     "text": [
      "You are a minor\n"
     ]
    }
   ],
   "source": [
    "##  else \n",
    "\n",
    "age = 16\n",
    "\n",
    "if age>=18:\n",
    "    print(\"You are eligible for voting\")\n",
    "else:\n",
    "    print(\"You are a minor\")    "
   ]
  },
  {
   "cell_type": "code",
   "execution_count": 12,
   "id": "18a50757",
   "metadata": {},
   "outputs": [
    {
     "name": "stdout",
     "output_type": "stream",
     "text": [
      "you are a teenager\n"
     ]
    }
   ],
   "source": [
    "## elif\n",
    "\n",
    "age = 18\n",
    "\n",
    "if age<13:\n",
    "    print(\"You are child\")\n",
    "elif age<=18:\n",
    "    print(\"you are a teenager\")    \n",
    "else:\n",
    "    print(\"You are an adult\")"
   ]
  },
  {
   "cell_type": "code",
   "execution_count": null,
   "id": "8a912126",
   "metadata": {},
   "outputs": [
    {
     "name": "stdout",
     "output_type": "stream",
     "text": [
      "The number is Zero or negative\n"
     ]
    }
   ],
   "source": [
    "## Nested Loop\n",
    "\n",
    "num=int(input(\"Enter the number\"))\n",
    "\n",
    "if num>0:\n",
    "    print(\"The number is Positive\")\n",
    "    if num%2==0:\n",
    "        print(\"The number is even\")\n",
    "    else:\n",
    "        print(\"The number is odd\")    \n",
    "else:\n",
    "    print(\"The number is Zero or negative\")        "
   ]
  },
  {
   "cell_type": "code",
   "execution_count": null,
   "id": "3760b766",
   "metadata": {},
   "outputs": [],
   "source": []
  }
 ],
 "metadata": {
  "kernelspec": {
   "display_name": "Python 3",
   "language": "python",
   "name": "python3"
  },
  "language_info": {
   "codemirror_mode": {
    "name": "ipython",
    "version": 3
   },
   "file_extension": ".py",
   "mimetype": "text/x-python",
   "name": "python",
   "nbconvert_exporter": "python",
   "pygments_lexer": "ipython3",
   "version": "3.12.0"
  }
 },
 "nbformat": 4,
 "nbformat_minor": 5
}
